{
 "cells": [
  {
   "cell_type": "code",
   "execution_count": 1,
   "metadata": {},
   "outputs": [],
   "source": [
    "import sys\n",
    "sys.path.append('..')\n",
    "import numpy as np\n",
    "from Calcium2Behavior.data_loader import prepare_dataloaders"
   ]
  },
  {
   "cell_type": "code",
   "execution_count": 2,
   "metadata": {},
   "outputs": [
    {
     "name": "stdout",
     "output_type": "stream",
     "text": [
      "(20, 1) (20,)\n"
     ]
    }
   ],
   "source": [
    "data = np.arange(1, 21).reshape(-1, 1)\n",
    "labels = np.arange(1, 21)\n",
    "\n",
    "print(data.shape, labels.shape)"
   ]
  },
  {
   "cell_type": "code",
   "execution_count": 3,
   "metadata": {},
   "outputs": [],
   "source": [
    "tmp_path = '/tmp/'\n",
    "data_file = tmp_path + \"dummy_data.npy\"\n",
    "label_file = tmp_path + \"dummy_labels.npy\"\n",
    "np.save(data_file, data)\n",
    "np.save(label_file, labels)"
   ]
  },
  {
   "cell_type": "code",
   "execution_count": 4,
   "metadata": {},
   "outputs": [],
   "source": [
    "config = {\n",
    "    \"data\": {\n",
    "        \"npy_path\": str(data_file),\n",
    "        \"label_path\": str(label_file),\n",
    "        \"left_window_size\": 3,\n",
    "        \"right_window_size\": 2,\n",
    "    },\n",
    "    \"training\": {\n",
    "        \"batch_size\": 1,\n",
    "        \"task_type\": \"regression\",\n",
    "        \"num_folds\": 5,\n",
    "        \"total_epochs\": 1,\n",
    "        \"hidden_dim\": 10,\n",
    "        \"learning_rate\": 0.001,\n",
    "    },\n",
    "    \"output\": {\n",
    "        \"dir_path\": str(tmp_path + \"results\")\n",
    "    },\n",
    "    \"device\": \"cpu\",\n",
    "}"
   ]
  },
  {
   "cell_type": "code",
   "execution_count": 5,
   "metadata": {},
   "outputs": [],
   "source": [
    "dataloaders, data_specs = prepare_dataloaders(config)"
   ]
  },
  {
   "cell_type": "code",
   "execution_count": 6,
   "metadata": {},
   "outputs": [
    {
     "name": "stdout",
     "output_type": "stream",
     "text": [
      "Total valid samples (dataset length): 15\n"
     ]
    }
   ],
   "source": [
    "total_valid = len(dataloaders[0][2].dataset)\n",
    "print(\"Total valid samples (dataset length):\", total_valid)\n"
   ]
  },
  {
   "cell_type": "code",
   "execution_count": 7,
   "metadata": {},
   "outputs": [],
   "source": [
    "# expected_length = 100 - config[\"data\"][\"left_window_size\"] - config[\"data\"][\"right_window_size\"] + 1\n",
    "# assert total_valid == expected_length, \"The dataset does not exclude boundary data correctly.\""
   ]
  },
  {
   "cell_type": "code",
   "execution_count": 8,
   "metadata": {},
   "outputs": [],
   "source": [
    "# folds[2]"
   ]
  },
  {
   "cell_type": "code",
   "execution_count": null,
   "metadata": {},
   "outputs": [
    {
     "name": "stdout",
     "output_type": "stream",
     "text": [
      "x [1. 2. 3. 4. 5. 6.]\n",
      "y [4.]\n",
      "x [2. 3. 4. 5. 6. 7.]\n",
      "y [5.]\n",
      "x [3. 4. 5. 6. 7. 8.]\n",
      "y [6.]\n",
      "x [ 7.  8.  9. 10. 11. 12.]\n",
      "y [10.]\n",
      "x [ 8.  9. 10. 11. 12. 13.]\n",
      "y [11.]\n",
      "x [ 9. 10. 11. 12. 13. 14.]\n",
      "y [12.]\n",
      "x [10. 11. 12. 13. 14. 15.]\n",
      "y [13.]\n",
      "x [11. 12. 13. 14. 15. 16.]\n",
      "y [14.]\n",
      "x [12. 13. 14. 15. 16. 17.]\n",
      "y [15.]\n",
      "x [13. 14. 15. 16. 17. 18.]\n",
      "y [16.]\n",
      "x [14. 15. 16. 17. 18. 19.]\n",
      "y [17.]\n",
      "x [15. 16. 17. 18. 19. 20.]\n",
      "y [18.]\n",
      "---\n",
      "x [1. 2. 3. 4. 5. 6.]\n",
      "y [4.]\n",
      "x [2. 3. 4. 5. 6. 7.]\n",
      "y [5.]\n",
      "x [3. 4. 5. 6. 7. 8.]\n",
      "y [6.]\n",
      "x [4. 5. 6. 7. 8. 9.]\n",
      "y [7.]\n",
      "x [ 5.  6.  7.  8.  9. 10.]\n",
      "y [8.]\n",
      "x [ 6.  7.  8.  9. 10. 11.]\n",
      "y [9.]\n",
      "x [10. 11. 12. 13. 14. 15.]\n",
      "y [13.]\n",
      "x [11. 12. 13. 14. 15. 16.]\n",
      "y [14.]\n",
      "x [12. 13. 14. 15. 16. 17.]\n",
      "y [15.]\n",
      "x [13. 14. 15. 16. 17. 18.]\n",
      "y [16.]\n",
      "x [14. 15. 16. 17. 18. 19.]\n",
      "y [17.]\n",
      "x [15. 16. 17. 18. 19. 20.]\n",
      "y [18.]\n",
      "---\n",
      "x [1. 2. 3. 4. 5. 6.]\n",
      "y [4.]\n",
      "x [2. 3. 4. 5. 6. 7.]\n",
      "y [5.]\n",
      "x [3. 4. 5. 6. 7. 8.]\n",
      "y [6.]\n",
      "x [4. 5. 6. 7. 8. 9.]\n",
      "y [7.]\n",
      "x [ 5.  6.  7.  8.  9. 10.]\n",
      "y [8.]\n",
      "x [ 6.  7.  8.  9. 10. 11.]\n",
      "y [9.]\n",
      "x [ 7.  8.  9. 10. 11. 12.]\n",
      "y [10.]\n",
      "x [ 8.  9. 10. 11. 12. 13.]\n",
      "y [11.]\n",
      "x [ 9. 10. 11. 12. 13. 14.]\n",
      "y [12.]\n",
      "x [13. 14. 15. 16. 17. 18.]\n",
      "y [16.]\n",
      "x [14. 15. 16. 17. 18. 19.]\n",
      "y [17.]\n",
      "x [15. 16. 17. 18. 19. 20.]\n",
      "y [18.]\n",
      "---\n",
      "x [1. 2. 3. 4. 5. 6.]\n",
      "y [4.]\n",
      "x [2. 3. 4. 5. 6. 7.]\n",
      "y [5.]\n",
      "x [3. 4. 5. 6. 7. 8.]\n",
      "y [6.]\n",
      "x [4. 5. 6. 7. 8. 9.]\n",
      "y [7.]\n",
      "x [ 5.  6.  7.  8.  9. 10.]\n",
      "y [8.]\n",
      "x [ 6.  7.  8.  9. 10. 11.]\n",
      "y [9.]\n",
      "x [ 7.  8.  9. 10. 11. 12.]\n",
      "y [10.]\n",
      "x [ 8.  9. 10. 11. 12. 13.]\n",
      "y [11.]\n",
      "x [ 9. 10. 11. 12. 13. 14.]\n",
      "y [12.]\n",
      "x [10. 11. 12. 13. 14. 15.]\n",
      "y [13.]\n",
      "x [11. 12. 13. 14. 15. 16.]\n",
      "y [14.]\n",
      "x [12. 13. 14. 15. 16. 17.]\n",
      "y [15.]\n",
      "---\n",
      "x [4. 5. 6. 7. 8. 9.]\n",
      "y [7.]\n",
      "x [ 5.  6.  7.  8.  9. 10.]\n",
      "y [8.]\n",
      "x [ 6.  7.  8.  9. 10. 11.]\n",
      "y [9.]\n",
      "x [ 7.  8.  9. 10. 11. 12.]\n",
      "y [10.]\n",
      "x [ 8.  9. 10. 11. 12. 13.]\n",
      "y [11.]\n",
      "x [ 9. 10. 11. 12. 13. 14.]\n",
      "y [12.]\n",
      "x [10. 11. 12. 13. 14. 15.]\n",
      "y [13.]\n",
      "x [11. 12. 13. 14. 15. 16.]\n",
      "y [14.]\n",
      "x [12. 13. 14. 15. 16. 17.]\n",
      "y [15.]\n",
      "x [13. 14. 15. 16. 17. 18.]\n",
      "y [16.]\n",
      "x [14. 15. 16. 17. 18. 19.]\n",
      "y [17.]\n",
      "x [15. 16. 17. 18. 19. 20.]\n",
      "y [18.]\n",
      "---\n"
     ]
    }
   ],
   "source": [
    "# for fold, (train_loader, test_loader, all_loader) in enumerate(dataloaders):\n",
    "#     for x, y in train_loader:\n",
    "#         print('x', x.numpy().flatten())\n",
    "#         print('y', y.numpy().flatten())\n",
    "\n",
    "\n",
    "\n",
    "#     # train_indices = train_loader.dataset.indices\n",
    "#     # test_indices = test_loader.dataset.indices\n",
    "#     # print(f\"\\nFold {fold}:\")\n",
    "#     # print(\"  Train indices:\", train_indices)\n",
    "#     # print(\"  Test indices:\", test_indices)"
   ]
  },
  {
   "cell_type": "code",
   "execution_count": null,
   "metadata": {},
   "outputs": [],
   "source": [
    "\n",
    "# Assert the expected valid sample count is correct.\n",
    "\n",
    "\n",
    "# Loop through each fold and print training and testing indices.\n",
    "\n",
    "    \n",
    "    # For time series split, ensure that the last training index is strictly less than the first testing index.\n",
    "    if train_indices and test_indices:\n",
    "        assert max(train_indices) < min(test_indices), f\"Fold {fold} does not maintain temporal order.\"\n",
    "\n",
    "# Capture and print output (to be visible when running with -s).\n",
    "captured_output = capsys.readouterr().out\n",
    "print(\"\\nCaptured output:\\n\", captured_output)\n"
   ]
  },
  {
   "cell_type": "code",
   "execution_count": null,
   "metadata": {},
   "outputs": [],
   "source": [
    "\n",
    "\n",
    "def test_show_dataloader_folds(tmp_path, capsys):\n",
    "    # Create dummy dataset: numbers from 1 to 100.\n",
    "    # Data shape: (100, 1) so each time step has 1 feature.\n",
    "    \n",
    "    \n",
    "    # Save the dummy data and labels to .npy files in the temporary directory.\n",
    "    data_file = tmp_path / \"dummy_data.npy\"\n",
    "    label_file = tmp_path / \"dummy_labels.npy\"\n",
    "    np.save(data_file, data)\n",
    "    np.save(label_file, labels)\n",
    "    \n",
    "    # Configuration using left/right windows.\n",
    "    # With left_window_size=5 and right_window_size=1, valid samples count is 100 - 5 - 1 + 1 = 95.\n",
    "    \n",
    "    \n",
    "    # Prepare dataloaders.\n",
    "    dataloaders, data_specs = prepare_dataloaders(config)\n",
    "    \n",
    "    # Print overall data specifications and dataset length.\n",
    "    print(\"Data Specs:\", data_specs)\n",
    "    "
   ]
  }
 ],
 "metadata": {
  "kernelspec": {
   "display_name": ".venv",
   "language": "python",
   "name": "python3"
  },
  "language_info": {
   "codemirror_mode": {
    "name": "ipython",
    "version": 3
   },
   "file_extension": ".py",
   "mimetype": "text/x-python",
   "name": "python",
   "nbconvert_exporter": "python",
   "pygments_lexer": "ipython3",
   "version": "3.10.12"
  }
 },
 "nbformat": 4,
 "nbformat_minor": 2
}
