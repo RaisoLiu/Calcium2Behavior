{
 "cells": [
  {
   "cell_type": "code",
   "execution_count": 53,
   "metadata": {},
   "outputs": [],
   "source": [
    "import numpy as np\n",
    "dir_path = 'results/no.109_Drd1-Cre.xlsx_20250307_050035/'\n",
    "\n",
    "\n",
    "fold = 2\n",
    "\n",
    "prediction = np.load(f'{dir_path}predictions_fold_{fold}.npy')[:, 0]\n",
    "ground_truth = np.load(f'{dir_path}ground_truth_fold_{fold}.npy')[:, 0]\n",
    "n_samples = len(ground_truth)\n",
    "l, r = int(n_samples * fold / 5), int(n_samples * (fold+1) / 5)\n",
    "prediction = prediction[l:r]\n",
    "ground_truth = ground_truth[l:r]\n",
    "\n",
    "n_samples = len(ground_truth)\n",
    "\n"
   ]
  },
  {
   "cell_type": "code",
   "execution_count": 54,
   "metadata": {},
   "outputs": [
    {
     "name": "stdout",
     "output_type": "stream",
     "text": [
      "True Positives: 4\n",
      "False Positives: 0\n",
      "False Negatives: 0\n",
      "Precision: 1.000\n",
      "Recall: 1.000\n",
      "F1 Score: 1.000\n",
      "Average Precision: 0.71\n"
     ]
    }
   ],
   "source": [
    "def calculate_peak_metrics(peaks1, peaks2, tolerance=10):\n",
    "    TP = 0\n",
    "    FP = 0\n",
    "    FN = 0\n",
    "    \n",
    "    # 複製一份 peaks2 用來追蹤已匹配的點\n",
    "    matched_peaks2 = set()\n",
    "    \n",
    "    # 對於 peaks1 中的每個點，尋找最近的 peaks2 點\n",
    "    for p1 in peaks1:\n",
    "        matched = False\n",
    "        for i, p2 in enumerate(peaks2):\n",
    "            if i not in matched_peaks2 and abs(p1 - p2) <= tolerance:\n",
    "                TP += 1\n",
    "                matched_peaks2.add(i)\n",
    "                matched = True\n",
    "                break\n",
    "        if not matched:\n",
    "            FN += 1\n",
    "    \n",
    "    # 計算未匹配的 peaks2 點作為 FP\n",
    "    FP = len(peaks2) - len(matched_peaks2)\n",
    "    \n",
    "    # 計算指標\n",
    "    precision = TP / (TP + FP) if (TP + FP) > 0 else 0\n",
    "    recall = TP / (TP + FN) if (TP + FN) > 0 else 0\n",
    "    f1 = 2 * (precision * recall) / (precision + recall) if (precision + recall) > 0 else 0\n",
    "    \n",
    "    return {\n",
    "        'TP': TP,\n",
    "        'FP': FP,\n",
    "        'FN': FN,\n",
    "        'precision': precision,\n",
    "        'recall': recall,\n",
    "        'f1': f1\n",
    "    }\n",
    "\n",
    "# 使用範例\n",
    "peaks1 = np.array([84, 309, 381, 494])\n",
    "peaks2 = np.array([87, 310, 383, 496])\n",
    "\n",
    "metrics = calculate_peak_metrics(peaks1, peaks2, tolerance=10)\n",
    "\n",
    "print(f\"True Positives: {metrics['TP']}\")\n",
    "print(f\"False Positives: {metrics['FP']}\")\n",
    "print(f\"False Negatives: {metrics['FN']}\")\n",
    "print(f\"Precision: {metrics['precision']:.3f}\")\n",
    "print(f\"Recall: {metrics['recall']:.3f}\")\n",
    "print(f\"F1 Score: {metrics['f1']:.3f}\")\n",
    "\n",
    "\n",
    "import numpy as np\n",
    "\n",
    "def compute_ap(P, R):\n",
    "    \"\"\"\n",
    "    計算 Average Precision (AP)\n",
    "    \n",
    "    假設 P 與 R 為同長度的 numpy 陣列，其中：\n",
    "    - P: precision 值\n",
    "    - R: recall 值，且必須是遞增的\n",
    "    AP 定義為：AP = sum((R[i] - R[i-1]) * P[i])\n",
    "    \n",
    "    若 R array 第一個值不為 0，則會在開頭補 0。\n",
    "    \"\"\"\n",
    "    # 如果 R 的起始值不是 0，則補上 (P[0], 0)\n",
    "    if R[0] != 0:\n",
    "        R = np.concatenate(([0], R))\n",
    "        P = np.concatenate(([P[0]], P))\n",
    "        \n",
    "    # 計算 recall 差分\n",
    "    dR = np.diff(R)\n",
    "    # AP 為 recall 差分乘上對應 precision 的和\n",
    "    ap = np.sum(dR * P[1:])  # P[1:] 對應每個 recall 區間的 precision\n",
    "    return ap\n",
    "\n",
    "# 範例用法：\n",
    "# 假設你有以下的 precision 與 recall arrays\n",
    "P = np.array([1.0, 0.8, 0.6, 0.5])\n",
    "R = np.array([0.2, 0.5, 0.7, 1.0])\n",
    "\n",
    "ap_value = compute_ap(P, R)\n",
    "print(\"Average Precision:\", ap_value)\n"
   ]
  },
  {
   "cell_type": "code",
   "execution_count": 55,
   "metadata": {},
   "outputs": [
    {
     "name": "stdout",
     "output_type": "stream",
     "text": [
      "[ 37 125 162 208 310 358 477]\n"
     ]
    }
   ],
   "source": [
    "from scipy.signal import find_peaks\n",
    "\n",
    "ground_truth_peaks = find_peaks(ground_truth, distance = 10)[0]\n",
    "print(ground_truth_peaks)"
   ]
  },
  {
   "cell_type": "code",
   "execution_count": 56,
   "metadata": {},
   "outputs": [],
   "source": [
    "Precision_list = []\n",
    "Recall_list = []\n",
    "\n",
    "for th in np.arange(0, 1, 0.05):\n",
    "    peaks_pred = find_peaks(prediction, distance = 10, height=(1-th))[0]\n",
    "    if len(peaks_pred) == 0:\n",
    "        continue\n",
    "    metrics = calculate_peak_metrics(ground_truth_peaks, peaks_pred, tolerance=10)\n",
    "    Recall = metrics['recall']\n",
    "    Precision = metrics['precision']\n",
    "    Precision_list.append(Precision)\n",
    "    Recall_list.append(Recall)"
   ]
  },
  {
   "cell_type": "code",
   "execution_count": 57,
   "metadata": {},
   "outputs": [],
   "source": [
    "import matplotlib.pyplot as plt\n",
    "\n",
    "def plot_precision_recall(recall_list, precision_list):\n",
    "    \"\"\"\n",
    "    根據給定的 recall_list 與 precision_list 畫出 Precision-Recall 曲線\n",
    "    \"\"\"\n",
    "    plt.figure(figsize=(8, 6))\n",
    "    plt.plot(recall_list, precision_list, marker='o')\n",
    "    plt.xlabel('Recall')\n",
    "    plt.ylabel('Precision')\n",
    "    ap_value = compute_ap(Precision_list, Recall_list)\n",
    "    plt.title(f'Precision-Recall Curve, AP: {ap_value:.4f}')\n",
    "    plt.grid(True)\n",
    "    plt.show()"
   ]
  },
  {
   "cell_type": "code",
   "execution_count": 58,
   "metadata": {},
   "outputs": [
    {
     "data": {
      "image/png": "[encoded data removed]",
      "text/plain": [
       "<Figure size 800x600 with 1 Axes>"
      ]
     },
     "metadata": {},
     "output_type": "display_data"
    }
   ],
   "source": [
    "plot_precision_recall(Precision_list, Recall_list)"
   ]
  },
  {
   "cell_type": "code",
   "execution_count": null,
   "metadata": {},
   "outputs": [],
   "source": []
  }
 ],
 "metadata": {
  "kernelspec": {
   "display_name": ".venv",
   "language": "python",
   "name": "python3"
  },
  "language_info": {
   "codemirror_mode": {
    "name": "ipython",
    "version": 3
   },
   "file_extension": ".py",
   "mimetype": "text/x-python",
   "name": "python",
   "nbconvert_exporter": "python",
   "pygments_lexer": "ipython3",
   "version": "3.10.12"
  }
 },
 "nbformat": 4,
 "nbformat_minor": 2
}
